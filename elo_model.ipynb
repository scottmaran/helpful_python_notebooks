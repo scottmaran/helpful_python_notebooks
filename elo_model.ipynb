{
 "cells": [
  {
   "cell_type": "code",
   "execution_count": 7,
   "metadata": {},
   "outputs": [],
   "source": [
    "import pandas as pd\n",
    "import numpy as np"
   ]
  },
  {
   "cell_type": "code",
   "execution_count": 8,
   "metadata": {},
   "outputs": [],
   "source": [
    "# get data from Basketball-Reference\n",
    "url = \"https://www.basketball-reference.com/leagues/NBA_2023_games.html\"\n",
    "df = pd.read_html(url)[0]"
   ]
  },
  {
   "cell_type": "code",
   "execution_count": 9,
   "metadata": {},
   "outputs": [
    {
     "data": {
      "text/html": [
       "<div>\n",
       "<style scoped>\n",
       "    .dataframe tbody tr th:only-of-type {\n",
       "        vertical-align: middle;\n",
       "    }\n",
       "\n",
       "    .dataframe tbody tr th {\n",
       "        vertical-align: top;\n",
       "    }\n",
       "\n",
       "    .dataframe thead th {\n",
       "        text-align: right;\n",
       "    }\n",
       "</style>\n",
       "<table border=\"1\" class=\"dataframe\">\n",
       "  <thead>\n",
       "    <tr style=\"text-align: right;\">\n",
       "      <th></th>\n",
       "      <th>Date</th>\n",
       "      <th>Start (ET)</th>\n",
       "      <th>Visitor/Neutral</th>\n",
       "      <th>PTS</th>\n",
       "      <th>Home/Neutral</th>\n",
       "      <th>PTS.1</th>\n",
       "      <th>Unnamed: 6</th>\n",
       "      <th>Unnamed: 7</th>\n",
       "      <th>Attend.</th>\n",
       "      <th>Arena</th>\n",
       "      <th>Notes</th>\n",
       "    </tr>\n",
       "  </thead>\n",
       "  <tbody>\n",
       "    <tr>\n",
       "      <th>0</th>\n",
       "      <td>Tue, Oct 18, 2022</td>\n",
       "      <td>7:30p</td>\n",
       "      <td>Philadelphia 76ers</td>\n",
       "      <td>117</td>\n",
       "      <td>Boston Celtics</td>\n",
       "      <td>126</td>\n",
       "      <td>Box Score</td>\n",
       "      <td>NaN</td>\n",
       "      <td>19156.0</td>\n",
       "      <td>TD Garden</td>\n",
       "      <td>NaN</td>\n",
       "    </tr>\n",
       "    <tr>\n",
       "      <th>1</th>\n",
       "      <td>Tue, Oct 18, 2022</td>\n",
       "      <td>10:00p</td>\n",
       "      <td>Los Angeles Lakers</td>\n",
       "      <td>109</td>\n",
       "      <td>Golden State Warriors</td>\n",
       "      <td>123</td>\n",
       "      <td>Box Score</td>\n",
       "      <td>NaN</td>\n",
       "      <td>18064.0</td>\n",
       "      <td>Chase Center</td>\n",
       "      <td>NaN</td>\n",
       "    </tr>\n",
       "    <tr>\n",
       "      <th>2</th>\n",
       "      <td>Wed, Oct 19, 2022</td>\n",
       "      <td>7:00p</td>\n",
       "      <td>Orlando Magic</td>\n",
       "      <td>109</td>\n",
       "      <td>Detroit Pistons</td>\n",
       "      <td>113</td>\n",
       "      <td>Box Score</td>\n",
       "      <td>NaN</td>\n",
       "      <td>20190.0</td>\n",
       "      <td>Little Caesars Arena</td>\n",
       "      <td>NaN</td>\n",
       "    </tr>\n",
       "    <tr>\n",
       "      <th>3</th>\n",
       "      <td>Wed, Oct 19, 2022</td>\n",
       "      <td>7:00p</td>\n",
       "      <td>Washington Wizards</td>\n",
       "      <td>114</td>\n",
       "      <td>Indiana Pacers</td>\n",
       "      <td>107</td>\n",
       "      <td>Box Score</td>\n",
       "      <td>NaN</td>\n",
       "      <td>15027.0</td>\n",
       "      <td>Gainbridge Fieldhouse</td>\n",
       "      <td>NaN</td>\n",
       "    </tr>\n",
       "    <tr>\n",
       "      <th>4</th>\n",
       "      <td>Wed, Oct 19, 2022</td>\n",
       "      <td>7:30p</td>\n",
       "      <td>Houston Rockets</td>\n",
       "      <td>107</td>\n",
       "      <td>Atlanta Hawks</td>\n",
       "      <td>117</td>\n",
       "      <td>Box Score</td>\n",
       "      <td>NaN</td>\n",
       "      <td>17878.0</td>\n",
       "      <td>State Farm Arena</td>\n",
       "      <td>NaN</td>\n",
       "    </tr>\n",
       "  </tbody>\n",
       "</table>\n",
       "</div>"
      ],
      "text/plain": [
       "                Date Start (ET)     Visitor/Neutral  PTS  \\\n",
       "0  Tue, Oct 18, 2022      7:30p  Philadelphia 76ers  117   \n",
       "1  Tue, Oct 18, 2022     10:00p  Los Angeles Lakers  109   \n",
       "2  Wed, Oct 19, 2022      7:00p       Orlando Magic  109   \n",
       "3  Wed, Oct 19, 2022      7:00p  Washington Wizards  114   \n",
       "4  Wed, Oct 19, 2022      7:30p     Houston Rockets  107   \n",
       "\n",
       "            Home/Neutral  PTS.1 Unnamed: 6 Unnamed: 7  Attend.  \\\n",
       "0         Boston Celtics    126  Box Score        NaN  19156.0   \n",
       "1  Golden State Warriors    123  Box Score        NaN  18064.0   \n",
       "2        Detroit Pistons    113  Box Score        NaN  20190.0   \n",
       "3         Indiana Pacers    107  Box Score        NaN  15027.0   \n",
       "4          Atlanta Hawks    117  Box Score        NaN  17878.0   \n",
       "\n",
       "                   Arena  Notes  \n",
       "0              TD Garden    NaN  \n",
       "1           Chase Center    NaN  \n",
       "2   Little Caesars Arena    NaN  \n",
       "3  Gainbridge Fieldhouse    NaN  \n",
       "4       State Farm Arena    NaN  "
      ]
     },
     "execution_count": 9,
     "metadata": {},
     "output_type": "execute_result"
    }
   ],
   "source": [
    "df.head()"
   ]
  },
  {
   "cell_type": "code",
   "execution_count": 10,
   "metadata": {},
   "outputs": [],
   "source": [
    "team_names = df['Visitor/Neutral'].unique() # numpy array of length 30"
   ]
  },
  {
   "cell_type": "code",
   "execution_count": 11,
   "metadata": {},
   "outputs": [
    {
     "data": {
      "text/plain": [
       "array(['Philadelphia 76ers', 'Los Angeles Lakers', 'Orlando Magic',\n",
       "       'Washington Wizards', 'Houston Rockets', 'New Orleans Pelicans',\n",
       "       'New York Knicks', 'Chicago Bulls', 'Cleveland Cavaliers',\n",
       "       'Oklahoma City Thunder', 'Charlotte Hornets', 'Denver Nuggets',\n",
       "       'Dallas Mavericks', 'Portland Trail Blazers', 'Milwaukee Bucks',\n",
       "       'Los Angeles Clippers', 'San Antonio Spurs', 'Toronto Raptors',\n",
       "       'Boston Celtics', 'Detroit Pistons', 'Memphis Grizzlies',\n",
       "       'Utah Jazz', 'Phoenix Suns', 'Minnesota Timberwolves',\n",
       "       'Sacramento Kings', 'Indiana Pacers', 'Brooklyn Nets',\n",
       "       'Golden State Warriors', 'Atlanta Hawks', 'Miami Heat'],\n",
       "      dtype=object)"
      ]
     },
     "execution_count": 11,
     "metadata": {},
     "output_type": "execute_result"
    }
   ],
   "source": [
    "team_names"
   ]
  },
  {
   "cell_type": "code",
   "execution_count": 6,
   "metadata": {},
   "outputs": [],
   "source": [
    "# create dictionary of intiialized elo scores\n",
    "INITIAL_ELO_SCORE = 1500\n",
    "keys = team_names\n",
    "values = INITIAL_ELO_SCORE*np.ones(len(keys))\n",
    "elo_scores_dict = dict(zip(keys, values))"
   ]
  },
  {
   "cell_type": "code",
   "execution_count": 11,
   "metadata": {},
   "outputs": [
    {
     "name": "stdout",
     "output_type": "stream",
     "text": [
      "{'Philadelphia 76ers': 1500.0, 'Los Angeles Lakers': 1500.0, 'Orlando Magic': 1500.0, 'Washington Wizards': 1500.0, 'Houston Rockets': 1500.0, 'New Orleans Pelicans': 1500.0, 'New York Knicks': 1500.0, 'Chicago Bulls': 1500.0, 'Cleveland Cavaliers': 1500.0, 'Oklahoma City Thunder': 1500.0, 'Charlotte Hornets': 1500.0, 'Denver Nuggets': 1500.0, 'Dallas Mavericks': 1500.0, 'Portland Trail Blazers': 1500.0, 'Milwaukee Bucks': 1500.0, 'Los Angeles Clippers': 1500.0, 'San Antonio Spurs': 1500.0, 'Toronto Raptors': 1500.0, 'Boston Celtics': 1500.0, 'Detroit Pistons': 1500.0, 'Memphis Grizzlies': 1500.0, 'Utah Jazz': 1500.0, 'Phoenix Suns': 1500.0, 'Minnesota Timberwolves': 1500.0, 'Sacramento Kings': 1500.0, 'Indiana Pacers': 1500.0, 'Brooklyn Nets': 1500.0, 'Golden State Warriors': 1500.0, 'Atlanta Hawks': 1500.0, 'Miami Heat': 1500.0}\n"
     ]
    }
   ],
   "source": [
    "print(elo_scores_dict)"
   ]
  },
  {
   "cell_type": "code",
   "execution_count": null,
   "metadata": {},
   "outputs": [],
   "source": [
    "''' \n",
    "Now update scores\n",
    "'''"
   ]
  },
  {
   "cell_type": "code",
   "execution_count": 12,
   "metadata": {},
   "outputs": [
    {
     "name": "stdout",
     "output_type": "stream",
     "text": [
      "Date                Tue, Oct 18, 2022\n",
      "Start (ET)                      7:30p\n",
      "Visitor/Neutral    Philadelphia 76ers\n",
      "PTS                               117\n",
      "Home/Neutral           Boston Celtics\n",
      "PTS.1                             126\n",
      "Unnamed: 6                  Box Score\n",
      "Unnamed: 7                        NaN\n",
      "Attend.                       19156.0\n",
      "Arena                       TD Garden\n",
      "Notes                             NaN\n",
      "Name: 0, dtype: object\n"
     ]
    }
   ],
   "source": [
    "# Example to show how we can isolate each row\n",
    "for row in range(len(df)):\n",
    "    \n",
    "    print(df.iloc[row, :])\n",
    "    \n",
    "    break "
   ]
  },
  {
   "cell_type": "code",
   "execution_count": 16,
   "metadata": {},
   "outputs": [],
   "source": [
    "# Function that calculates the expected score of a team\n",
    "def calc_expected_score(team_rating: float, opponent_rating: float) -> float: \n",
    "    exponent = (opponent_rating - team_rating)/400\n",
    "    return 1/(1 + np.power(10, exponent))"
   ]
  },
  {
   "cell_type": "code",
   "execution_count": 17,
   "metadata": {},
   "outputs": [],
   "source": [
    "# initialize K value in elo algorithm\n",
    "K = 32\n",
    "\n",
    "# iterate over every row of dataframe\n",
    "for row_index in range(len(df)):\n",
    "    \n",
    "    # store information for the game\n",
    "    game_row = df.iloc[row_index, :]    # pandas series\n",
    "    home_team = game_row['Home/Neutral']\n",
    "    home_pts = game_row['PTS']\n",
    "    away_team = game_row['Visitor/Neutral']\n",
    "    away_pts = game_row['PTS.1']\n",
    "    \n",
    "    # get elo values of teams\n",
    "    home_original_elo = elo_scores_dict[home_team]\n",
    "    away_original_elo = elo_scores_dict[away_team]\n",
    "    \n",
    "    # calculate expected scores\n",
    "    home_expected_score = calc_expected_score(home_original_elo, away_original_elo)\n",
    "    away_expected_score = calc_expected_score(away_original_elo, home_original_elo)\n",
    "    \n",
    "    # Calculate new elo values\n",
    "    if home_pts > away_pts:\n",
    "        # HOME TEAM WON\n",
    "        home_updated_elo = home_original_elo + K*(1 - home_expected_score)\n",
    "        away_updated_elo = away_original_elo + K*(0 - away_expected_score)\n",
    "    else:\n",
    "        # AWAY TEAM WON\n",
    "        home_updated_elo = home_original_elo + K*(0 - home_expected_score)\n",
    "        away_updated_elo = away_original_elo + K*(1 - away_expected_score)\n",
    "    \n",
    "    # update ELO values\n",
    "    elo_scores_dict[home_team] = home_updated_elo\n",
    "    elo_scores_dict[away_team] = away_updated_elo\n",
    "    "
   ]
  },
  {
   "cell_type": "code",
   "execution_count": 18,
   "metadata": {},
   "outputs": [
    {
     "name": "stdout",
     "output_type": "stream",
     "text": [
      "{'Philadelphia 76ers': 1491.472840891314, 'Los Angeles Lakers': 1550.2418486432596, 'Orlando Magic': 1565.3135930930694, 'Washington Wizards': 1522.461519556463, 'Houston Rockets': 1576.7865997783865, 'New Orleans Pelicans': 1470.3253289201298, 'New York Knicks': 1498.572188039835, 'Chicago Bulls': 1516.845010106631, 'Cleveland Cavaliers': 1438.9290488344946, 'Oklahoma City Thunder': 1493.5822661450911, 'Charlotte Hornets': 1518.3435657120367, 'Denver Nuggets': 1487.6197564301053, 'Dallas Mavericks': 1500.1518030069285, 'Portland Trail Blazers': 1447.730552206142, 'Milwaukee Bucks': 1415.3394400334469, 'Los Angeles Clippers': 1522.5174220744711, 'San Antonio Spurs': 1454.7771053065296, 'Toronto Raptors': 1488.85391844581, 'Boston Celtics': 1474.7297233771644, 'Detroit Pistons': 1552.1951392728454, 'Memphis Grizzlies': 1491.3798359096972, 'Utah Jazz': 1443.7600192668813, 'Phoenix Suns': 1439.365200851544, 'Minnesota Timberwolves': 1487.30693942636, 'Sacramento Kings': 1522.574193339895, 'Indiana Pacers': 1529.9398325376678, 'Brooklyn Nets': 1540.4722077518575, 'Golden State Warriors': 1522.8860919355698, 'Atlanta Hawks': 1492.9043191732378, 'Miami Heat': 1542.6226899331364}\n"
     ]
    }
   ],
   "source": [
    "print(elo_scores_dict)"
   ]
  },
  {
   "cell_type": "code",
   "execution_count": 26,
   "metadata": {},
   "outputs": [],
   "source": [
    "# How to sort dictionary in python by values\n",
    "# https://stackoverflow.com/questions/613183/how-do-i-sort-a-dictionary-by-value\n",
    "\n",
    "sorted_elo_list = [(k,v) for k, v in sorted(elo_scores_dict.items(), key=lambda item: item[1], reverse=True)]   # list of tuples\n"
   ]
  },
  {
   "cell_type": "code",
   "execution_count": 27,
   "metadata": {},
   "outputs": [
    {
     "data": {
      "text/plain": [
       "[('Houston Rockets', 1576.7865997783865),\n",
       " ('Orlando Magic', 1565.3135930930694),\n",
       " ('Detroit Pistons', 1552.1951392728454),\n",
       " ('Los Angeles Lakers', 1550.2418486432596),\n",
       " ('Miami Heat', 1542.6226899331364)]"
      ]
     },
     "execution_count": 27,
     "metadata": {},
     "output_type": "execute_result"
    }
   ],
   "source": [
    "sorted_elo_list[0:5]"
   ]
  },
  {
   "cell_type": "code",
   "execution_count": null,
   "metadata": {},
   "outputs": [],
   "source": []
  },
  {
   "cell_type": "code",
   "execution_count": 29,
   "metadata": {},
   "outputs": [],
   "source": [
    "def create_initial_elo(initial_elo_score, team_names):\n",
    "    keys = team_names\n",
    "    values = initial_elo_score*np.ones(len(keys))\n",
    "    elo_scores_dict = dict(zip(keys, values))\n",
    "    \n",
    "    return elo_scores_dict"
   ]
  },
  {
   "cell_type": "code",
   "execution_count": 39,
   "metadata": {},
   "outputs": [],
   "source": [
    "''' \n",
    "Function to update elo rankings. Updates in place\n",
    "'''\n",
    "def update_elo_rankings(df, K, elo_scores_dict):\n",
    "\n",
    "    # iterate over every row of dataframe\n",
    "    for row_index in range(len(df)):\n",
    "        \n",
    "        # store information for the game\n",
    "        game_row = df.iloc[row_index, :]    # pandas series\n",
    "        home_team = game_row['Home/Neutral']\n",
    "        home_pts = game_row['PTS']\n",
    "        away_team = game_row['Visitor/Neutral']\n",
    "        away_pts = game_row['PTS.1']\n",
    "        \n",
    "        # get elo values of teams\n",
    "        home_original_elo = elo_scores_dict[home_team]\n",
    "        away_original_elo = elo_scores_dict[away_team]\n",
    "        \n",
    "        # calculate expected scores\n",
    "        home_expected_score = calc_expected_score(home_original_elo, away_original_elo)\n",
    "        away_expected_score = calc_expected_score(away_original_elo, home_original_elo)\n",
    "        \n",
    "        # Calculate new elo values\n",
    "        if home_pts > away_pts:\n",
    "            # HOME TEAM WON\n",
    "            home_updated_elo = home_original_elo + K*(1 - home_expected_score)\n",
    "            away_updated_elo = away_original_elo + K*(0 - away_expected_score)\n",
    "        else:\n",
    "            # AWAY TEAM WON\n",
    "            home_updated_elo = home_original_elo + K*(0 - home_expected_score)\n",
    "            away_updated_elo = away_original_elo + K*(1 - away_expected_score)\n",
    "        \n",
    "        # update ELO values\n",
    "        elo_scores_dict[home_team] = home_updated_elo\n",
    "        elo_scores_dict[away_team] = away_updated_elo\n",
    "    \n",
    "    return elo_scores_dict"
   ]
  },
  {
   "cell_type": "code",
   "execution_count": 42,
   "metadata": {},
   "outputs": [],
   "source": [
    "elo_dict_2 = create_initial_elo(1500, team_names)\n",
    "elo_dict_2 = update_elo_rankings(df, 32, elo_dict_2)"
   ]
  },
  {
   "cell_type": "code",
   "execution_count": 43,
   "metadata": {},
   "outputs": [
    {
     "data": {
      "text/plain": [
       "{'Philadelphia 76ers': 1491.472840891314,\n",
       " 'Los Angeles Lakers': 1550.2418486432596,\n",
       " 'Orlando Magic': 1565.3135930930694,\n",
       " 'Washington Wizards': 1522.461519556463,\n",
       " 'Houston Rockets': 1576.7865997783865,\n",
       " 'New Orleans Pelicans': 1470.3253289201298,\n",
       " 'New York Knicks': 1498.572188039835,\n",
       " 'Chicago Bulls': 1516.845010106631,\n",
       " 'Cleveland Cavaliers': 1438.9290488344946,\n",
       " 'Oklahoma City Thunder': 1493.5822661450911,\n",
       " 'Charlotte Hornets': 1518.3435657120367,\n",
       " 'Denver Nuggets': 1487.6197564301053,\n",
       " 'Dallas Mavericks': 1500.1518030069285,\n",
       " 'Portland Trail Blazers': 1447.730552206142,\n",
       " 'Milwaukee Bucks': 1415.3394400334469,\n",
       " 'Los Angeles Clippers': 1522.5174220744711,\n",
       " 'San Antonio Spurs': 1454.7771053065296,\n",
       " 'Toronto Raptors': 1488.85391844581,\n",
       " 'Boston Celtics': 1474.7297233771644,\n",
       " 'Detroit Pistons': 1552.1951392728454,\n",
       " 'Memphis Grizzlies': 1491.3798359096972,\n",
       " 'Utah Jazz': 1443.7600192668813,\n",
       " 'Phoenix Suns': 1439.365200851544,\n",
       " 'Minnesota Timberwolves': 1487.30693942636,\n",
       " 'Sacramento Kings': 1522.574193339895,\n",
       " 'Indiana Pacers': 1529.9398325376678,\n",
       " 'Brooklyn Nets': 1540.4722077518575,\n",
       " 'Golden State Warriors': 1522.8860919355698,\n",
       " 'Atlanta Hawks': 1492.9043191732378,\n",
       " 'Miami Heat': 1542.6226899331364}"
      ]
     },
     "execution_count": 43,
     "metadata": {},
     "output_type": "execute_result"
    }
   ],
   "source": [
    "elo_dict_2"
   ]
  },
  {
   "cell_type": "code",
   "execution_count": null,
   "metadata": {},
   "outputs": [],
   "source": []
  }
 ],
 "metadata": {
  "kernelspec": {
   "display_name": "Python 3.8.13 ('py3_8')",
   "language": "python",
   "name": "python3"
  },
  "language_info": {
   "codemirror_mode": {
    "name": "ipython",
    "version": 3
   },
   "file_extension": ".py",
   "mimetype": "text/x-python",
   "name": "python",
   "nbconvert_exporter": "python",
   "pygments_lexer": "ipython3",
   "version": "3.8.13"
  },
  "orig_nbformat": 4,
  "vscode": {
   "interpreter": {
    "hash": "ddbcb8d282e4b804eec002e3c50e6956ebf0a5df21fa8318b2f7f43305aa55ef"
   }
  }
 },
 "nbformat": 4,
 "nbformat_minor": 2
}
