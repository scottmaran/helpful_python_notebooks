{
 "cells": [
  {
   "cell_type": "markdown",
   "id": "cb5e1ab3",
   "metadata": {},
   "source": [
    "Pandas Example"
   ]
  },
  {
   "cell_type": "code",
   "execution_count": null,
   "id": "d956dfd3",
   "metadata": {},
   "outputs": [],
   "source": [
    "'''\n",
    "Resources:\n",
    "10 minute intro to Pandas: https://pandas.pydata.org/pandas-docs/stable/user_guide/10min.html\n",
    "Cheatsheet with most common commands: https://pandas.pydata.org/Pandas_Cheat_Sheet.pdf\n",
    "'''"
   ]
  },
  {
   "cell_type": "code",
   "execution_count": null,
   "id": "028ecc78",
   "metadata": {},
   "outputs": [],
   "source": [
    "import requests\n",
    "import lxml.html as lh\n",
    "import pandas as pd"
   ]
  },
  {
   "cell_type": "markdown",
   "id": "34411038",
   "metadata": {},
   "source": [
    "There are thousands of different Python 'libraries' available for people to use - packages of Python code made publicly available by other people. These packages (like pandas, numpy, scipy) are extremely useful and are made for different purposes.\n",
    "\n",
    "Requests - A library to easily send HTTP requests through Python\n",
    "lxml.html - Based on lxml's HTML parser (code to search through the code (HyperText Markup Language) that forms a website)\n",
    "Pandas - Open source data analysis and manipulation tool, most well-known for use of dataframes (tables)"
   ]
  },
  {
   "cell_type": "code",
   "execution_count": null,
   "id": "8aaa6915",
   "metadata": {},
   "outputs": [],
   "source": [
    "url = 'https://www.pro-football-reference.com/years/2021/passing.htm'\n",
    "df = pd.read_html(url)[0]"
   ]
  },
  {
   "cell_type": "code",
   "execution_count": null,
   "id": "89f81af7",
   "metadata": {
    "scrolled": true
   },
   "outputs": [],
   "source": [
    "df"
   ]
  },
  {
   "cell_type": "markdown",
   "id": "c1b6c61b",
   "metadata": {},
   "source": [
    "What is this?"
   ]
  },
  {
   "cell_type": "code",
   "execution_count": null,
   "id": "562b503a",
   "metadata": {},
   "outputs": [],
   "source": [
    "print(type(df))"
   ]
  },
  {
   "cell_type": "markdown",
   "id": "c2840b46",
   "metadata": {},
   "source": [
    "What can we do with it? Think of it like a table.\n",
    "\n",
    "We can take rows"
   ]
  },
  {
   "cell_type": "code",
   "execution_count": null,
   "id": "bec69a60",
   "metadata": {},
   "outputs": [],
   "source": [
    "first_row = df.iloc[0,:]\n",
    "\n",
    "print(first_row)"
   ]
  },
  {
   "cell_type": "code",
   "execution_count": null,
   "id": "98c2b2b7",
   "metadata": {},
   "outputs": [],
   "source": [
    "# to make viewing rows and columns a little easier\n",
    "pd.set_option('display.max_columns', None)\n",
    "\n",
    "df.iloc[0:1,:]"
   ]
  },
  {
   "cell_type": "markdown",
   "id": "914c29da",
   "metadata": {},
   "source": [
    "What is a \"row\" in Pandas?"
   ]
  },
  {
   "cell_type": "code",
   "execution_count": null,
   "id": "cf4de055",
   "metadata": {},
   "outputs": [],
   "source": [
    "print(type(first_row))"
   ]
  },
  {
   "cell_type": "markdown",
   "id": "3b1900f7",
   "metadata": {},
   "source": [
    "It's a Pandas Series object! It's basically an array (a list) with indices (labels for each position in the list)\n",
    "\n",
    "https://pandas.pydata.org/pandas-docs/stable/reference/api/pandas.Series.html#pandas.Series"
   ]
  },
  {
   "cell_type": "markdown",
   "id": "e3f966eb",
   "metadata": {},
   "source": [
    "We can select elements of a Pandas series by their label. In the above example, if we are interested in the value of the \"Player\" index, we can do:"
   ]
  },
  {
   "cell_type": "code",
   "execution_count": null,
   "id": "ada5b69d",
   "metadata": {},
   "outputs": [],
   "source": [
    "print(first_row.loc['Player'])"
   ]
  },
  {
   "cell_type": "markdown",
   "id": "18f485c6",
   "metadata": {},
   "source": [
    "These are the two ways we select things in a Pandas object: by label (loc), or by index (iloc)"
   ]
  },
  {
   "cell_type": "markdown",
   "id": "008f5996",
   "metadata": {},
   "source": [
    "Just like we can select rows, we can also select columns"
   ]
  },
  {
   "cell_type": "code",
   "execution_count": null,
   "id": "f9f8a9b5",
   "metadata": {},
   "outputs": [],
   "source": [
    "df.head()"
   ]
  },
  {
   "cell_type": "code",
   "execution_count": null,
   "id": "eb8e9bc8",
   "metadata": {},
   "outputs": [],
   "source": [
    "first_column = df.loc[:,\"Player\"]\n",
    "\n",
    "print(first_column)"
   ]
  },
  {
   "cell_type": "markdown",
   "id": "e2cda273",
   "metadata": {},
   "source": [
    "Conceptual question: What type is \"first_column\"? I.e. what would be the output of type(first_column)?"
   ]
  },
  {
   "cell_type": "markdown",
   "id": "9f1710fa",
   "metadata": {},
   "source": [
    "There is another very important concept: boolean indexing. Let's look at a small example"
   ]
  },
  {
   "cell_type": "code",
   "execution_count": null,
   "id": "6436b824",
   "metadata": {},
   "outputs": [],
   "source": [
    "small_df = df.head()\n",
    "\n",
    "small_df"
   ]
  },
  {
   "cell_type": "markdown",
   "id": "42ffb1c3",
   "metadata": {},
   "source": [
    "What if I wanted all the elements except the first one?"
   ]
  },
  {
   "cell_type": "code",
   "execution_count": null,
   "id": "5b313faf",
   "metadata": {},
   "outputs": [],
   "source": [
    "small_df.loc[[False, True, True, True, True], :]"
   ]
  },
  {
   "cell_type": "markdown",
   "id": "95b92e9e",
   "metadata": {},
   "source": [
    "Why can we do this!? When we are 'selecting' rows using the .loc command, this is really what Pandas is seeing - for every row, it has to decide if it wants to keep that row (True) or not (False). \n",
    "\n",
    "As one might imagine, writing out the entire list of boolean values would be horribly inefficient. So usually there are quicker ways we can do so"
   ]
  },
  {
   "cell_type": "code",
   "execution_count": null,
   "id": "0e012450",
   "metadata": {},
   "outputs": [],
   "source": [
    "small_df.iloc[small_df.index != 0, :]"
   ]
  },
  {
   "cell_type": "markdown",
   "id": "994323aa",
   "metadata": {},
   "source": [
    "What's going on here!? Well first what is small_df.index?"
   ]
  },
  {
   "cell_type": "code",
   "execution_count": null,
   "id": "29e060e8",
   "metadata": {},
   "outputs": [],
   "source": [
    "print(type(small_df.index))"
   ]
  },
  {
   "cell_type": "code",
   "execution_count": null,
   "id": "63bdd8be",
   "metadata": {},
   "outputs": [],
   "source": [
    "print(small_df.index)"
   ]
  },
  {
   "cell_type": "markdown",
   "id": "a2946351",
   "metadata": {},
   "source": [
    "For all intents and purposes, it's basically a list. But it's a list! And zero is a number! Why can we do 'list != number' and not get an error!?\n",
    "\n",
    "This is (basically) called broadcasting - Pandas assumes that what you really meant is \"compare each element of list with 'number'\", e.g. 'list != [0,0,0,0,0]'"
   ]
  },
  {
   "cell_type": "code",
   "execution_count": null,
   "id": "ac68b3fd",
   "metadata": {},
   "outputs": [],
   "source": [
    "print(small_df.index != 0)"
   ]
  },
  {
   "cell_type": "code",
   "execution_count": null,
   "id": "016b6c23",
   "metadata": {},
   "outputs": [],
   "source": []
  },
  {
   "cell_type": "markdown",
   "id": "23df22b7",
   "metadata": {},
   "source": [
    "Let's sort this by 'Rate' to see who are some of the best quarterbacks"
   ]
  },
  {
   "cell_type": "code",
   "execution_count": null,
   "id": "6cb4bad5",
   "metadata": {},
   "outputs": [],
   "source": [
    "#pd.set_option('display.max_columns', None)\n",
    "pd.set_option('display.max_rows', None)\n",
    "\n",
    "sorted_df = df.sort_values('Rate', ascending=False)\n",
    "\n",
    "sorted_df"
   ]
  },
  {
   "cell_type": "markdown",
   "id": "bf7f0ac1",
   "metadata": {},
   "source": [
    "Why did we get a weird output? Why is Josh Johnson the highest?"
   ]
  },
  {
   "cell_type": "code",
   "execution_count": null,
   "id": "73e25a85",
   "metadata": {},
   "outputs": [],
   "source": [
    "print(df['Rate'].dtype)"
   ]
  },
  {
   "cell_type": "markdown",
   "id": "d7ac3918",
   "metadata": {},
   "source": [
    "Python is not reading 'Rate' as a number, instead it is reading it as a 'python object'. So if we want to sort it properly (i.e. the largest numbers being at the top, we have to change the column to being a 'numeric' data type."
   ]
  },
  {
   "cell_type": "code",
   "execution_count": null,
   "id": "2df9a517",
   "metadata": {},
   "outputs": [],
   "source": [
    "# this will change the one column to be a numeric type\n",
    "# we have to save the column\n",
    "df['Rate'] = pd.to_numeric(df['Rate'], errors='coerce')"
   ]
  },
  {
   "cell_type": "code",
   "execution_count": null,
   "id": "54ee451f",
   "metadata": {},
   "outputs": [],
   "source": [
    "print(df['Rate'].dtype)"
   ]
  },
  {
   "cell_type": "code",
   "execution_count": null,
   "id": "fdc4e998",
   "metadata": {},
   "outputs": [],
   "source": [
    "# This is how we would do it if we wanted to change mulitple columns to numeric type. The \"errors = 'coerce'\" part\n",
    "# isn't important, the interesting part is using the 'apply' function, a very useful python function\n",
    "\n",
    "columns_to_make_numeric = ['G', 'GS', 'Cmp', 'Att', 'Y/G', 'Rate', 'QBR', 'Sk']\n",
    "\n",
    "df[columns_to_make_numeric] = df[columns_to_make_numeric].apply(pd.to_numeric, errors='coerce')"
   ]
  },
  {
   "cell_type": "code",
   "execution_count": null,
   "id": "53a2cae2",
   "metadata": {},
   "outputs": [],
   "source": [
    "print(df['G'].dtype)"
   ]
  },
  {
   "cell_type": "code",
   "execution_count": null,
   "id": "d9111889",
   "metadata": {},
   "outputs": [],
   "source": [
    "correctly_sorted_df = df.sort_values('Rate', ascending=False)\n",
    "\n",
    "correctly_sorted_df"
   ]
  },
  {
   "cell_type": "markdown",
   "id": "16b2f7ed",
   "metadata": {},
   "source": [
    "Great! Now we have a sorted dataframe. But we probably don't care about these quarterbacks who've made so few completions right? Let's get rid of them"
   ]
  },
  {
   "cell_type": "code",
   "execution_count": null,
   "id": "012f1ee9",
   "metadata": {},
   "outputs": [],
   "source": [
    "filtered_df = correctly_sorted_df.loc[correctly_sorted_df['Att'] >= 20, :]\n",
    "\n",
    "filtered_df"
   ]
  },
  {
   "cell_type": "code",
   "execution_count": null,
   "id": "01ff9d24",
   "metadata": {},
   "outputs": [],
   "source": []
  },
  {
   "cell_type": "code",
   "execution_count": null,
   "id": "933da707",
   "metadata": {},
   "outputs": [],
   "source": []
  },
  {
   "cell_type": "code",
   "execution_count": null,
   "id": "9576bc70",
   "metadata": {},
   "outputs": [],
   "source": []
  }
 ],
 "metadata": {
  "kernelspec": {
   "display_name": "Python 3.8.13 ('py3_8')",
   "language": "python",
   "name": "python3"
  },
  "language_info": {
   "codemirror_mode": {
    "name": "ipython",
    "version": 3
   },
   "file_extension": ".py",
   "mimetype": "text/x-python",
   "name": "python",
   "nbconvert_exporter": "python",
   "pygments_lexer": "ipython3",
   "version": "3.8.13"
  },
  "vscode": {
   "interpreter": {
    "hash": "ddbcb8d282e4b804eec002e3c50e6956ebf0a5df21fa8318b2f7f43305aa55ef"
   }
  }
 },
 "nbformat": 4,
 "nbformat_minor": 5
}
